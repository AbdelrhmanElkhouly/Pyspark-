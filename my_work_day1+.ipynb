{
 "cells": [
  {
   "cell_type": "code",
   "execution_count": null,
   "id": "e6a8f87e",
   "metadata": {},
   "outputs": [],
   "source": []
  },
  {
   "cell_type": "code",
   "execution_count": 1,
   "id": "ea3ef713",
   "metadata": {},
   "outputs": [],
   "source": [
    "import findspark\n",
    "findspark.init()\n",
    "from pyspark.sql import SparkSession"
   ]
  },
  {
   "cell_type": "code",
   "execution_count": 2,
   "id": "ab395374",
   "metadata": {},
   "outputs": [
    {
     "name": "stderr",
     "output_type": "stream",
     "text": [
      "WARNING: An illegal reflective access operation has occurred\n",
      "WARNING: Illegal reflective access by org.apache.spark.unsafe.Platform (file:/opt/spark/jars/spark-unsafe_2.12-3.0.1.jar) to constructor java.nio.DirectByteBuffer(long,int)\n",
      "WARNING: Please consider reporting this to the maintainers of org.apache.spark.unsafe.Platform\n",
      "WARNING: Use --illegal-access=warn to enable warnings of further illegal reflective access operations\n",
      "WARNING: All illegal access operations will be denied in a future release\n",
      "21/10/25 20:56:40 WARN NativeCodeLoader: Unable to load native-hadoop library for your platform... using builtin-java classes where applicable\n",
      "Using Spark's default log4j profile: org/apache/spark/log4j-defaults.properties\n",
      "Setting default log level to \"WARN\".\n",
      "To adjust logging level use sc.setLogLevel(newLevel). For SparkR, use setLogLevel(newLevel).\n",
      "21/10/25 20:56:46 WARN Utils: Service 'SparkUI' could not bind on port 4040. Attempting port 4041.\n"
     ]
    }
   ],
   "source": [
    "spark = SparkSession.builder.master('local[*]').appName('DataFrame').getOrCreate()\n",
    "#i give it application  name\n",
    "#i give it master node location and how many cores -->* means all "
   ]
  },
  {
   "cell_type": "code",
   "execution_count": 3,
   "id": "9323fed9",
   "metadata": {},
   "outputs": [
    {
     "data": {
      "text/html": [
       "\n",
       "            <div>\n",
       "                <p><b>SparkSession - in-memory</b></p>\n",
       "                \n",
       "        <div>\n",
       "            <p><b>SparkContext</b></p>\n",
       "\n",
       "            <p><a href=\"http://abdelrhman.lab.local:4041\">Spark UI</a></p>\n",
       "\n",
       "            <dl>\n",
       "              <dt>Version</dt>\n",
       "                <dd><code>v3.0.1</code></dd>\n",
       "              <dt>Master</dt>\n",
       "                <dd><code>local[*]</code></dd>\n",
       "              <dt>AppName</dt>\n",
       "                <dd><code>DataFrame</code></dd>\n",
       "            </dl>\n",
       "        </div>\n",
       "        \n",
       "            </div>\n",
       "        "
      ],
      "text/plain": [
       "<pyspark.sql.session.SparkSession at 0x7fa6382ab8b0>"
      ]
     },
     "execution_count": 3,
     "metadata": {},
     "output_type": "execute_result"
    }
   ],
   "source": [
    "spark"
   ]
  },
  {
   "cell_type": "code",
   "execution_count": 9,
   "id": "3fe28e4b",
   "metadata": {},
   "outputs": [],
   "source": [
    "sc = spark.sparkContext"
   ]
  },
  {
   "cell_type": "code",
   "execution_count": 29,
   "id": "4a1791f7",
   "metadata": {},
   "outputs": [],
   "source": [
    "lst = [('brooke' , 20) , ( 'denny' , 31) , ('julia' , 30) , ('denny' , 15) , ('julia' , 22) , ('td' , 35) , ('brooke' , 25)]"
   ]
  },
  {
   "cell_type": "code",
   "execution_count": 30,
   "id": "b61a2bbf",
   "metadata": {},
   "outputs": [
    {
     "data": {
      "text/plain": [
       "[('brooke', 20),\n",
       " ('denny', 31),\n",
       " ('julia', 30),\n",
       " ('denny', 15),\n",
       " ('julia', 22),\n",
       " ('td', 35),\n",
       " ('brooke', 25)]"
      ]
     },
     "execution_count": 30,
     "metadata": {},
     "output_type": "execute_result"
    }
   ],
   "source": [
    "lst "
   ]
  },
  {
   "cell_type": "code",
   "execution_count": 31,
   "id": "478f0bbd",
   "metadata": {},
   "outputs": [],
   "source": [
    "#we want to do grouping and avg"
   ]
  },
  {
   "cell_type": "code",
   "execution_count": 32,
   "id": "071228ca",
   "metadata": {},
   "outputs": [],
   "source": [
    "rdd1 = sc.parallelize(lst)"
   ]
  },
  {
   "cell_type": "code",
   "execution_count": 33,
   "id": "dc5004da",
   "metadata": {},
   "outputs": [
    {
     "data": {
      "text/plain": [
       "[('brooke', 20),\n",
       " ('denny', 31),\n",
       " ('julia', 30),\n",
       " ('denny', 15),\n",
       " ('julia', 22),\n",
       " ('td', 35),\n",
       " ('brooke', 25)]"
      ]
     },
     "execution_count": 33,
     "metadata": {},
     "output_type": "execute_result"
    }
   ],
   "source": [
    "rdd1.collect()"
   ]
  },
  {
   "cell_type": "code",
   "execution_count": 34,
   "id": "e7726999",
   "metadata": {},
   "outputs": [],
   "source": [
    "rdd2 = rdd1.map(lambda x : (x[0] ,(x[1] , 1)))"
   ]
  },
  {
   "cell_type": "code",
   "execution_count": 35,
   "id": "38578be3",
   "metadata": {},
   "outputs": [
    {
     "data": {
      "text/plain": [
       "[('brooke', (20, 1)),\n",
       " ('denny', (31, 1)),\n",
       " ('julia', (30, 1)),\n",
       " ('denny', (15, 1)),\n",
       " ('julia', (22, 1)),\n",
       " ('td', (35, 1)),\n",
       " ('brooke', (25, 1))]"
      ]
     },
     "execution_count": 35,
     "metadata": {},
     "output_type": "execute_result"
    }
   ],
   "source": [
    "rdd2.collect()"
   ]
  },
  {
   "cell_type": "code",
   "execution_count": 36,
   "id": "85d8df11",
   "metadata": {},
   "outputs": [],
   "source": [
    "rdd3 = rdd2.reduceByKey(lambda x,y : (x[0]+y[0] , x[1]+y[1]))"
   ]
  },
  {
   "cell_type": "code",
   "execution_count": 37,
   "id": "4a31de60",
   "metadata": {},
   "outputs": [
    {
     "data": {
      "text/plain": [
       "[('brooke', (45, 2)), ('denny', (46, 2)), ('julia', (52, 2)), ('td', (35, 1))]"
      ]
     },
     "execution_count": 37,
     "metadata": {},
     "output_type": "execute_result"
    }
   ],
   "source": [
    "rdd3.collect()"
   ]
  },
  {
   "cell_type": "code",
   "execution_count": 38,
   "id": "9afceedb",
   "metadata": {},
   "outputs": [],
   "source": [
    "rdd4 = rdd3.map(lambda x : (x[0] , x[1][0]/x[1][1]) )"
   ]
  },
  {
   "cell_type": "code",
   "execution_count": 39,
   "id": "065ee3e4",
   "metadata": {},
   "outputs": [
    {
     "data": {
      "text/plain": [
       "[('brooke', 22.5), ('denny', 23.0), ('julia', 26.0), ('td', 35.0)]"
      ]
     },
     "execution_count": 39,
     "metadata": {},
     "output_type": "execute_result"
    }
   ],
   "source": [
    "rdd4.collect()"
   ]
  },
  {
   "cell_type": "markdown",
   "id": "408c57fe",
   "metadata": {},
   "source": [
    "### we will use dataFrames "
   ]
  },
  {
   "cell_type": "code",
   "execution_count": 40,
   "id": "3e268b8f",
   "metadata": {},
   "outputs": [],
   "source": [
    "from pyspark.sql.functions import avg"
   ]
  },
  {
   "cell_type": "code",
   "execution_count": 41,
   "id": "cffd1b88",
   "metadata": {},
   "outputs": [],
   "source": [
    "lst_df = spark.createDataFrame(lst , ['name' , 'avg'])"
   ]
  },
  {
   "cell_type": "code",
   "execution_count": 42,
   "id": "2897bb0f",
   "metadata": {},
   "outputs": [
    {
     "name": "stdout",
     "output_type": "stream",
     "text": [
      "root\n",
      " |-- name: string (nullable = true)\n",
      " |-- avg: long (nullable = true)\n",
      "\n"
     ]
    }
   ],
   "source": [
    "lst_df.printSchema()"
   ]
  },
  {
   "cell_type": "code",
   "execution_count": 43,
   "id": "887d8c6b",
   "metadata": {},
   "outputs": [
    {
     "data": {
      "text/plain": [
       "DataFrame[name: string, avg: bigint]"
      ]
     },
     "execution_count": 43,
     "metadata": {},
     "output_type": "execute_result"
    }
   ],
   "source": [
    "lst_df"
   ]
  },
  {
   "cell_type": "code",
   "execution_count": 44,
   "id": "c7bf8857",
   "metadata": {},
   "outputs": [
    {
     "name": "stderr",
     "output_type": "stream",
     "text": [
      "                                                                                \r"
     ]
    },
    {
     "name": "stdout",
     "output_type": "stream",
     "text": [
      "+------+---+\n",
      "|  name|avg|\n",
      "+------+---+\n",
      "|brooke| 20|\n",
      "| denny| 31|\n",
      "| julia| 30|\n",
      "| denny| 15|\n",
      "| julia| 22|\n",
      "|    td| 35|\n",
      "|brooke| 25|\n",
      "+------+---+\n",
      "\n"
     ]
    }
   ],
   "source": [
    "lst_df.show()"
   ]
  },
  {
   "cell_type": "code",
   "execution_count": 45,
   "id": "2cf213c8",
   "metadata": {},
   "outputs": [],
   "source": [
    "avg_df = lst_df.groupBy('name').avg()"
   ]
  },
  {
   "cell_type": "code",
   "execution_count": 46,
   "id": "e7322e8a",
   "metadata": {},
   "outputs": [
    {
     "data": {
      "text/plain": [
       "DataFrame[name: string, avg(avg): double]"
      ]
     },
     "execution_count": 46,
     "metadata": {},
     "output_type": "execute_result"
    }
   ],
   "source": [
    "avg_df"
   ]
  },
  {
   "cell_type": "code",
   "execution_count": 47,
   "id": "fabb4be7",
   "metadata": {},
   "outputs": [
    {
     "name": "stderr",
     "output_type": "stream",
     "text": [
      "[Stage 25:=====================================================>  (71 + 2) / 75]\r"
     ]
    },
    {
     "name": "stdout",
     "output_type": "stream",
     "text": [
      "+------+--------+\n",
      "|  name|avg(avg)|\n",
      "+------+--------+\n",
      "| denny|    23.0|\n",
      "|brooke|    22.5|\n",
      "|    td|    35.0|\n",
      "| julia|    26.0|\n",
      "+------+--------+\n",
      "\n"
     ]
    },
    {
     "name": "stderr",
     "output_type": "stream",
     "text": [
      "\r",
      "                                                                                \r"
     ]
    }
   ],
   "source": [
    "avg_df.show()"
   ]
  },
  {
   "cell_type": "code",
   "execution_count": 48,
   "id": "9a9e3a45",
   "metadata": {},
   "outputs": [],
   "source": [
    "# it is easy and most optimized "
   ]
  },
  {
   "cell_type": "code",
   "execution_count": 49,
   "id": "1af48bf4",
   "metadata": {},
   "outputs": [
    {
     "name": "stderr",
     "output_type": "stream",
     "text": [
      "                                                                                \r"
     ]
    },
    {
     "data": {
      "text/plain": [
       "[Row(name='denny', avg(avg)=23.0),\n",
       " Row(name='brooke', avg(avg)=22.5),\n",
       " Row(name='td', avg(avg)=35.0),\n",
       " Row(name='julia', avg(avg)=26.0)]"
      ]
     },
     "execution_count": 49,
     "metadata": {},
     "output_type": "execute_result"
    }
   ],
   "source": [
    "avg_df.collect()#it return list of rows"
   ]
  },
  {
   "cell_type": "code",
   "execution_count": 50,
   "id": "b7c25c16",
   "metadata": {},
   "outputs": [
    {
     "name": "stderr",
     "output_type": "stream",
     "text": [
      "                                                                                \r"
     ]
    },
    {
     "data": {
      "text/plain": [
       "Row(name='denny', avg(avg)=23.0)"
      ]
     },
     "execution_count": 50,
     "metadata": {},
     "output_type": "execute_result"
    }
   ],
   "source": [
    "avg_df.head()"
   ]
  },
  {
   "cell_type": "code",
   "execution_count": 51,
   "id": "c250e66e",
   "metadata": {},
   "outputs": [
    {
     "name": "stderr",
     "output_type": "stream",
     "text": [
      "                                                                                \r"
     ]
    },
    {
     "data": {
      "text/plain": [
       "DataFrame[summary: string, name: string, avg(avg): string]"
      ]
     },
     "execution_count": 51,
     "metadata": {},
     "output_type": "execute_result"
    }
   ],
   "source": [
    "avg_df.describe()"
   ]
  },
  {
   "cell_type": "code",
   "execution_count": 52,
   "id": "8747a174",
   "metadata": {},
   "outputs": [
    {
     "name": "stderr",
     "output_type": "stream",
     "text": [
      "                                                                                \r"
     ]
    },
    {
     "name": "stdout",
     "output_type": "stream",
     "text": [
      "+-------+------+-----------------+\n",
      "|summary|  name|         avg(avg)|\n",
      "+-------+------+-----------------+\n",
      "|  count|     4|                4|\n",
      "|   mean|  null|           26.625|\n",
      "| stddev|  null|5.793315113128233|\n",
      "|    min|brooke|             22.5|\n",
      "|    max|    td|             35.0|\n",
      "+-------+------+-----------------+\n",
      "\n"
     ]
    }
   ],
   "source": [
    "avg_df.describe().show()"
   ]
  },
  {
   "cell_type": "code",
   "execution_count": 53,
   "id": "9fdaa31e",
   "metadata": {},
   "outputs": [],
   "source": [
    "#adv is column structure but in distributed system "
   ]
  },
  {
   "cell_type": "code",
   "execution_count": 54,
   "id": "e6548c02",
   "metadata": {},
   "outputs": [],
   "source": [
    "df = spark.read.json('people.json')"
   ]
  },
  {
   "cell_type": "code",
   "execution_count": 55,
   "id": "577f17c2",
   "metadata": {},
   "outputs": [
    {
     "name": "stdout",
     "output_type": "stream",
     "text": [
      "+----+-------+\n",
      "| age|   name|\n",
      "+----+-------+\n",
      "|null|Michael|\n",
      "|  30|   Andy|\n",
      "|  19| Justin|\n",
      "+----+-------+\n",
      "\n"
     ]
    }
   ],
   "source": [
    "df.show()"
   ]
  },
  {
   "cell_type": "code",
   "execution_count": 56,
   "id": "d9f8a95b",
   "metadata": {},
   "outputs": [],
   "source": [
    "#df op like sql op"
   ]
  },
  {
   "cell_type": "code",
   "execution_count": 57,
   "id": "2faeca69",
   "metadata": {},
   "outputs": [
    {
     "data": {
      "text/plain": [
       "Column<b'age'>"
      ]
     },
     "execution_count": 57,
     "metadata": {},
     "output_type": "execute_result"
    }
   ],
   "source": [
    "df.age"
   ]
  },
  {
   "cell_type": "code",
   "execution_count": 58,
   "id": "a968466b",
   "metadata": {},
   "outputs": [
    {
     "data": {
      "text/plain": [
       "Column<b'age'>"
      ]
     },
     "execution_count": 58,
     "metadata": {},
     "output_type": "execute_result"
    }
   ],
   "source": [
    "df['age']#the best"
   ]
  },
  {
   "cell_type": "code",
   "execution_count": 71,
   "id": "933bc2c1",
   "metadata": {},
   "outputs": [
    {
     "data": {
      "text/plain": [
       "Column<b'age'>"
      ]
     },
     "execution_count": 71,
     "metadata": {},
     "output_type": "execute_result"
    }
   ],
   "source": [
    "from pyspark.sql.functions import col , expr#*\n",
    "col('age')#very good"
   ]
  },
  {
   "cell_type": "code",
   "execution_count": 64,
   "id": "8337b33b",
   "metadata": {},
   "outputs": [
    {
     "name": "stdout",
     "output_type": "stream",
     "text": [
      "+-------+\n",
      "|   name|\n",
      "+-------+\n",
      "|Michael|\n",
      "|   Andy|\n",
      "| Justin|\n",
      "+-------+\n",
      "\n"
     ]
    }
   ],
   "source": [
    "df.select('name').show()"
   ]
  },
  {
   "cell_type": "code",
   "execution_count": 65,
   "id": "e144dea3",
   "metadata": {},
   "outputs": [
    {
     "name": "stdout",
     "output_type": "stream",
     "text": [
      "+-------+---------+\n",
      "|   name|(age * 2)|\n",
      "+-------+---------+\n",
      "|Michael|     null|\n",
      "|   Andy|       60|\n",
      "| Justin|       38|\n",
      "+-------+---------+\n",
      "\n"
     ]
    }
   ],
   "source": [
    "df.select('name' , df['age']*2).show()"
   ]
  },
  {
   "cell_type": "code",
   "execution_count": 66,
   "id": "87d81651",
   "metadata": {},
   "outputs": [
    {
     "name": "stdout",
     "output_type": "stream",
     "text": [
      "+-------+---------+\n",
      "|   name|(age * 2)|\n",
      "+-------+---------+\n",
      "|Michael|     null|\n",
      "|   Andy|       60|\n",
      "| Justin|       38|\n",
      "+-------+---------+\n",
      "\n"
     ]
    }
   ],
   "source": [
    "df.select('name' , col('age')*2).show()"
   ]
  },
  {
   "cell_type": "code",
   "execution_count": 67,
   "id": "1651b786",
   "metadata": {},
   "outputs": [],
   "source": [
    "df2 = df.filter(col('age')>21)"
   ]
  },
  {
   "cell_type": "code",
   "execution_count": 68,
   "id": "a8517b7d",
   "metadata": {},
   "outputs": [
    {
     "name": "stdout",
     "output_type": "stream",
     "text": [
      "+---+----+\n",
      "|age|name|\n",
      "+---+----+\n",
      "| 30|Andy|\n",
      "+---+----+\n",
      "\n"
     ]
    }
   ],
   "source": [
    "df2.show()"
   ]
  },
  {
   "cell_type": "code",
   "execution_count": 70,
   "id": "50422666",
   "metadata": {},
   "outputs": [
    {
     "name": "stdout",
     "output_type": "stream",
     "text": [
      "+---+----+\n",
      "|age|name|\n",
      "+---+----+\n",
      "| 30|Andy|\n",
      "+---+----+\n",
      "\n"
     ]
    }
   ],
   "source": [
    "df.filter('age > 21').show()"
   ]
  },
  {
   "cell_type": "code",
   "execution_count": 72,
   "id": "d8bc36c3",
   "metadata": {},
   "outputs": [
    {
     "name": "stdout",
     "output_type": "stream",
     "text": [
      "+-------+---------+\n",
      "|   name|(age * 2)|\n",
      "+-------+---------+\n",
      "|Michael|     null|\n",
      "|   Andy|       60|\n",
      "| Justin|       38|\n",
      "+-------+---------+\n",
      "\n"
     ]
    }
   ],
   "source": [
    "df.select('name' , expr('age*2')).show()"
   ]
  },
  {
   "cell_type": "code",
   "execution_count": 73,
   "id": "70ac9018",
   "metadata": {},
   "outputs": [
    {
     "name": "stdout",
     "output_type": "stream",
     "text": [
      "+-------+----------+\n",
      "|   name|age_double|\n",
      "+-------+----------+\n",
      "|Michael|      null|\n",
      "|   Andy|        60|\n",
      "| Justin|        38|\n",
      "+-------+----------+\n",
      "\n"
     ]
    }
   ],
   "source": [
    "df.select('name' , expr('age*2').alias('age_double')).show()"
   ]
  },
  {
   "cell_type": "code",
   "execution_count": 75,
   "id": "c45246d0",
   "metadata": {},
   "outputs": [
    {
     "name": "stderr",
     "output_type": "stream",
     "text": [
      "                                                                                \r"
     ]
    },
    {
     "name": "stdout",
     "output_type": "stream",
     "text": [
      "+----+-----+\n",
      "| age|count|\n",
      "+----+-----+\n",
      "|  19|    1|\n",
      "|null|    1|\n",
      "|  30|    1|\n",
      "+----+-----+\n",
      "\n"
     ]
    }
   ],
   "source": [
    "df.groupBy('age').count().show()"
   ]
  },
  {
   "cell_type": "code",
   "execution_count": 79,
   "id": "0032764f",
   "metadata": {},
   "outputs": [],
   "source": [
    "df_count = df.groupBy('age').count()"
   ]
  },
  {
   "cell_type": "code",
   "execution_count": 80,
   "id": "1e47daa4",
   "metadata": {},
   "outputs": [
    {
     "name": "stderr",
     "output_type": "stream",
     "text": [
      "[Stage 80:===================================>                    (48 + 2) / 75]\r"
     ]
    },
    {
     "name": "stdout",
     "output_type": "stream",
     "text": [
      "+----+-----+\n",
      "| age|count|\n",
      "+----+-----+\n",
      "|  19|    1|\n",
      "|null|    1|\n",
      "|  30|    1|\n",
      "+----+-----+\n",
      "\n"
     ]
    },
    {
     "name": "stderr",
     "output_type": "stream",
     "text": [
      "\r",
      "[Stage 80:=================================================>      (66 + 2) / 75]\r",
      "\r",
      "                                                                                \r"
     ]
    }
   ],
   "source": [
    "df_count.show()"
   ]
  },
  {
   "cell_type": "code",
   "execution_count": 84,
   "id": "ceace38d",
   "metadata": {},
   "outputs": [],
   "source": [
    "lst = [\n",
    "    ['r' , 'ba' , 1 , 10] , ['b' , 'ba' , 2 , 20] , ['r' , 'ca' , 3 , 30] ,\n",
    "    ['b' , 'gr' , 4 , 40] , ['r' , 'ca' , 5 , 50] ,['bl' , 'ca' , 6 , 60]\n",
    "]"
   ]
  },
  {
   "cell_type": "code",
   "execution_count": 85,
   "id": "28b53670",
   "metadata": {},
   "outputs": [],
   "source": [
    "df = spark.createDataFrame(lst , schema = ['color' , 'fru' , 'v1' , 'v2'])"
   ]
  },
  {
   "cell_type": "code",
   "execution_count": 86,
   "id": "490cc4ca",
   "metadata": {},
   "outputs": [
    {
     "name": "stdout",
     "output_type": "stream",
     "text": [
      "+-----+---+---+---+\n",
      "|color|fru| v1| v2|\n",
      "+-----+---+---+---+\n",
      "|    r| ba|  1| 10|\n",
      "|    b| ba|  2| 20|\n",
      "|    r| ca|  3| 30|\n",
      "|    b| gr|  4| 40|\n",
      "|    r| ca|  5| 50|\n",
      "|   bl| ca|  6| 60|\n",
      "+-----+---+---+---+\n",
      "\n"
     ]
    }
   ],
   "source": [
    "df.show()"
   ]
  },
  {
   "cell_type": "code",
   "execution_count": 89,
   "id": "4c08fb1a",
   "metadata": {},
   "outputs": [
    {
     "name": "stdout",
     "output_type": "stream",
     "text": [
      "root\n",
      " |-- color: string (nullable = true)\n",
      " |-- fru: string (nullable = true)\n",
      " |-- v1: long (nullable = true)\n",
      " |-- v2: long (nullable = true)\n",
      "\n"
     ]
    }
   ],
   "source": [
    "df.printSchema()"
   ]
  },
  {
   "cell_type": "code",
   "execution_count": 90,
   "id": "95591e40",
   "metadata": {},
   "outputs": [
    {
     "name": "stderr",
     "output_type": "stream",
     "text": [
      "[Stage 92:===============================================>        (64 + 2) / 75]\r"
     ]
    },
    {
     "name": "stdout",
     "output_type": "stream",
     "text": [
      "+-----+-------+-------+\n",
      "|color|avg(v1)|avg(v2)|\n",
      "+-----+-------+-------+\n",
      "|    b|    3.0|   30.0|\n",
      "|    r|    3.0|   30.0|\n",
      "|   bl|    6.0|   60.0|\n",
      "+-----+-------+-------+\n",
      "\n"
     ]
    },
    {
     "name": "stderr",
     "output_type": "stream",
     "text": [
      "\r",
      "[Stage 92:======================================================> (73 + 2) / 75]\r",
      "\r",
      "                                                                                \r"
     ]
    }
   ],
   "source": [
    "df.groupBy('color').avg().show()"
   ]
  },
  {
   "cell_type": "code",
   "execution_count": 91,
   "id": "be014ea3",
   "metadata": {},
   "outputs": [
    {
     "name": "stderr",
     "output_type": "stream",
     "text": [
      "[Stage 102:==============================================>        (63 + 2) / 75]\r"
     ]
    },
    {
     "name": "stdout",
     "output_type": "stream",
     "text": [
      "+-----+-------+\n",
      "|color|avg(v1)|\n",
      "+-----+-------+\n",
      "|    b|    3.0|\n",
      "|    r|    3.0|\n",
      "|   bl|    6.0|\n",
      "+-----+-------+\n",
      "\n"
     ]
    },
    {
     "name": "stderr",
     "output_type": "stream",
     "text": [
      "\r",
      "[Stage 102:====================================================>  (72 + 3) / 75]\r",
      "\r",
      "                                                                                \r"
     ]
    }
   ],
   "source": [
    "df.groupBy('color').avg('v1').show()"
   ]
  },
  {
   "cell_type": "code",
   "execution_count": 92,
   "id": "546e7f39",
   "metadata": {},
   "outputs": [
    {
     "name": "stderr",
     "output_type": "stream",
     "text": [
      "[Stage 112:=========================================>             (57 + 2) / 75]\r"
     ]
    },
    {
     "name": "stdout",
     "output_type": "stream",
     "text": [
      "+-----+---+-------+-------+\n",
      "|color|fru|avg(v1)|avg(v2)|\n",
      "+-----+---+-------+-------+\n",
      "|    b| gr|    4.0|   40.0|\n",
      "|    r| ca|    4.0|   40.0|\n",
      "|    r| ba|    1.0|   10.0|\n",
      "|    b| ba|    2.0|   20.0|\n",
      "|   bl| ca|    6.0|   60.0|\n",
      "+-----+---+-------+-------+\n",
      "\n"
     ]
    },
    {
     "name": "stderr",
     "output_type": "stream",
     "text": [
      "\r",
      "[Stage 112:===============================================>       (65 + 2) / 75]\r",
      "\r",
      "                                                                                \r"
     ]
    }
   ],
   "source": [
    "df.groupBy('color' , 'fru').avg('v1' , 'v2').show()"
   ]
  },
  {
   "cell_type": "code",
   "execution_count": 94,
   "id": "29b1183e",
   "metadata": {},
   "outputs": [
    {
     "name": "stderr",
     "output_type": "stream",
     "text": [
      "[Stage 132:=====================================================> (73 + 2) / 75]\r"
     ]
    },
    {
     "name": "stdout",
     "output_type": "stream",
     "text": [
      "+-----+---+-------+\n",
      "|color|fru|avf__v1|\n",
      "+-----+---+-------+\n",
      "|    b| gr|    4.0|\n",
      "|    r| ca|    4.0|\n",
      "|    r| ba|    1.0|\n",
      "|    b| ba|    2.0|\n",
      "|   bl| ca|    6.0|\n",
      "+-----+---+-------+\n",
      "\n"
     ]
    },
    {
     "name": "stderr",
     "output_type": "stream",
     "text": [
      "\r",
      "                                                                                \r"
     ]
    }
   ],
   "source": [
    "df.groupBy('color' , 'fru').agg(avg('v1').alias('avf__v1')).show()"
   ]
  },
  {
   "cell_type": "code",
   "execution_count": 95,
   "id": "409e9c30",
   "metadata": {},
   "outputs": [
    {
     "name": "stderr",
     "output_type": "stream",
     "text": [
      "[Stage 142:==================================================>    (69 + 2) / 75]\r"
     ]
    },
    {
     "name": "stdout",
     "output_type": "stream",
     "text": [
      "+-----+---+-------+-------+\n",
      "|color|fru|avf__v1|avf__v2|\n",
      "+-----+---+-------+-------+\n",
      "|    b| gr|    4.0|   40.0|\n",
      "|    r| ca|    4.0|   40.0|\n",
      "|    r| ba|    1.0|   10.0|\n",
      "|    b| ba|    2.0|   20.0|\n",
      "|   bl| ca|    6.0|   60.0|\n",
      "+-----+---+-------+-------+\n",
      "\n"
     ]
    },
    {
     "name": "stderr",
     "output_type": "stream",
     "text": [
      "\r",
      "                                                                                \r"
     ]
    }
   ],
   "source": [
    "df.groupBy('color' , 'fru').agg(avg('v1').alias('avf__v1'),avg('v2').alias('avf__v2')).show()"
   ]
  },
  {
   "cell_type": "code",
   "execution_count": 96,
   "id": "cdd089fc",
   "metadata": {},
   "outputs": [
    {
     "name": "stderr",
     "output_type": "stream",
     "text": [
      "[Stage 152:=======================================>               (54 + 3) / 75]\r"
     ]
    },
    {
     "name": "stdout",
     "output_type": "stream",
     "text": [
      "+-----+---+-------+-------+\n",
      "|color|fru|avf__v1|avf__v2|\n",
      "+-----+---+-------+-------+\n",
      "|    b| gr|    4.0|   40.0|\n",
      "|    r| ca|    4.0|   40.0|\n",
      "|    r| ba|    1.0|   10.0|\n",
      "|    b| ba|    2.0|   20.0|\n",
      "|   bl| ca|    6.0|   60.0|\n",
      "+-----+---+-------+-------+\n",
      "\n"
     ]
    },
    {
     "name": "stderr",
     "output_type": "stream",
     "text": [
      "\r",
      "[Stage 152:===============================================>       (65 + 2) / 75]\r",
      "\r",
      "                                                                                \r"
     ]
    }
   ],
   "source": [
    "df.groupBy(['color' , 'fru']).agg(avg('v1').alias('avf__v1'),avg('v2').alias('avf__v2')).show()"
   ]
  },
  {
   "cell_type": "code",
   "execution_count": 97,
   "id": "ec9602f4",
   "metadata": {},
   "outputs": [],
   "source": [
    "#if you give it schema it will be better"
   ]
  },
  {
   "cell_type": "code",
   "execution_count": null,
   "id": "a962bc3e",
   "metadata": {},
   "outputs": [],
   "source": []
  }
 ],
 "metadata": {
  "kernelspec": {
   "display_name": "Python 3 (ipykernel)",
   "language": "python",
   "name": "python3"
  },
  "language_info": {
   "codemirror_mode": {
    "name": "ipython",
    "version": 3
   },
   "file_extension": ".py",
   "mimetype": "text/x-python",
   "name": "python",
   "nbconvert_exporter": "python",
   "pygments_lexer": "ipython3",
   "version": "3.8.10"
  }
 },
 "nbformat": 4,
 "nbformat_minor": 5
}
