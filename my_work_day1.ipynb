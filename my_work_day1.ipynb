{
 "cells": [
  {
   "cell_type": "code",
   "execution_count": 1,
   "id": "0fad3c83",
   "metadata": {},
   "outputs": [],
   "source": [
    "import findspark #to find pyspark module \n",
    "findspark.init()\n",
    "#to make it easy "
   ]
  },
  {
   "cell_type": "code",
   "execution_count": 3,
   "id": "b898d119",
   "metadata": {},
   "outputs": [],
   "source": [
    "import pyspark # i did the above cell fot this cell "
   ]
  },
  {
   "cell_type": "code",
   "execution_count": 4,
   "id": "10b4d7f7",
   "metadata": {},
   "outputs": [],
   "source": [
    "from pyspark import SparkContext"
   ]
  },
  {
   "cell_type": "code",
   "execution_count": 6,
   "id": "c1a2f8d9",
   "metadata": {},
   "outputs": [
    {
     "name": "stderr",
     "output_type": "stream",
     "text": [
      "WARNING: An illegal reflective access operation has occurred\n",
      "WARNING: Illegal reflective access by org.apache.spark.unsafe.Platform (file:/opt/spark/jars/spark-unsafe_2.12-3.0.1.jar) to constructor java.nio.DirectByteBuffer(long,int)\n",
      "WARNING: Please consider reporting this to the maintainers of org.apache.spark.unsafe.Platform\n",
      "WARNING: Use --illegal-access=warn to enable warnings of further illegal reflective access operations\n",
      "WARNING: All illegal access operations will be denied in a future release\n",
      "21/10/25 16:08:50 WARN NativeCodeLoader: Unable to load native-hadoop library for your platform... using builtin-java classes where applicable\n",
      "Using Spark's default log4j profile: org/apache/spark/log4j-defaults.properties\n",
      "Setting default log level to \"WARN\".\n",
      "To adjust logging level use sc.setLogLevel(newLevel). For SparkR, use setLogLevel(newLevel).\n"
     ]
    }
   ],
   "source": [
    "sc = SparkContext()"
   ]
  },
  {
   "cell_type": "code",
   "execution_count": 9,
   "id": "58bd4499",
   "metadata": {},
   "outputs": [],
   "source": [
    "from pyspark.sql import SparkSession"
   ]
  },
  {
   "cell_type": "code",
   "execution_count": 11,
   "id": "d7c36019",
   "metadata": {},
   "outputs": [],
   "source": [
    "spark = SparkSession.builder.getOrCreate()#now i create an instance of spark session "
   ]
  },
  {
   "cell_type": "code",
   "execution_count": 12,
   "id": "73140f7e",
   "metadata": {},
   "outputs": [],
   "source": [
    "sc = spark.sparkContext # to use rdds"
   ]
  },
  {
   "cell_type": "code",
   "execution_count": 13,
   "id": "7dc8dcc6",
   "metadata": {},
   "outputs": [
    {
     "data": {
      "text/html": [
       "\n",
       "            <div>\n",
       "                <p><b>SparkSession - in-memory</b></p>\n",
       "                \n",
       "        <div>\n",
       "            <p><b>SparkContext</b></p>\n",
       "\n",
       "            <p><a href=\"http://abdelrhman.lab.local:4040\">Spark UI</a></p>\n",
       "\n",
       "            <dl>\n",
       "              <dt>Version</dt>\n",
       "                <dd><code>v3.0.1</code></dd>\n",
       "              <dt>Master</dt>\n",
       "                <dd><code>local[*]</code></dd>\n",
       "              <dt>AppName</dt>\n",
       "                <dd><code>pyspark-shell</code></dd>\n",
       "            </dl>\n",
       "        </div>\n",
       "        \n",
       "            </div>\n",
       "        "
      ],
      "text/plain": [
       "<pyspark.sql.session.SparkSession at 0x7f2a91441d90>"
      ]
     },
     "execution_count": 13,
     "metadata": {},
     "output_type": "execute_result"
    }
   ],
   "source": [
    "spark\n",
    "# single entry point that take from it all spark features"
   ]
  },
  {
   "cell_type": "code",
   "execution_count": 16,
   "id": "a3971337",
   "metadata": {},
   "outputs": [],
   "source": [
    "lst = [1,2,3,4,5,6,7,8,9]\n"
   ]
  },
  {
   "cell_type": "code",
   "execution_count": 17,
   "id": "7aa665ee",
   "metadata": {},
   "outputs": [],
   "source": [
    "rdd = sc.parallelize(lst)"
   ]
  },
  {
   "cell_type": "code",
   "execution_count": 18,
   "id": "03e3aa11",
   "metadata": {},
   "outputs": [
    {
     "data": {
      "text/plain": [
       "ParallelCollectionRDD[0] at readRDDFromFile at PythonRDD.scala:262"
      ]
     },
     "execution_count": 18,
     "metadata": {},
     "output_type": "execute_result"
    }
   ],
   "source": [
    "rdd"
   ]
  },
  {
   "cell_type": "code",
   "execution_count": 20,
   "id": "f04e0bff",
   "metadata": {},
   "outputs": [
    {
     "data": {
      "text/plain": [
       "pyspark.rdd.RDD"
      ]
     },
     "execution_count": 20,
     "metadata": {},
     "output_type": "execute_result"
    }
   ],
   "source": [
    "type(rdd)"
   ]
  },
  {
   "cell_type": "code",
   "execution_count": 21,
   "id": "144d772e",
   "metadata": {},
   "outputs": [],
   "source": [
    "def fn(x):\n",
    "    return x**2\n"
   ]
  },
  {
   "cell_type": "code",
   "execution_count": 22,
   "id": "a29ba0ab",
   "metadata": {},
   "outputs": [],
   "source": [
    "rdd2 = rdd.map(fn)#map take function "
   ]
  },
  {
   "cell_type": "code",
   "execution_count": 24,
   "id": "9de8fa7f",
   "metadata": {},
   "outputs": [
    {
     "data": {
      "text/plain": [
       "PythonRDD[1] at RDD at PythonRDD.scala:53"
      ]
     },
     "execution_count": 24,
     "metadata": {},
     "output_type": "execute_result"
    }
   ],
   "source": [
    "rdd2#it only transformation "
   ]
  },
  {
   "cell_type": "code",
   "execution_count": 26,
   "id": "49d03805",
   "metadata": {},
   "outputs": [],
   "source": [
    "# rdd2.collect() most expensive action "
   ]
  },
  {
   "cell_type": "code",
   "execution_count": 27,
   "id": "ac880485",
   "metadata": {},
   "outputs": [],
   "source": [
    "rdd3 = rdd2.map(lambda x : x*2)"
   ]
  },
  {
   "cell_type": "code",
   "execution_count": 29,
   "id": "2967ab74",
   "metadata": {},
   "outputs": [
    {
     "data": {
      "text/plain": [
       "PythonRDD[2] at RDD at PythonRDD.scala:53"
      ]
     },
     "execution_count": 29,
     "metadata": {},
     "output_type": "execute_result"
    }
   ],
   "source": [
    "rdd3#there is no action "
   ]
  },
  {
   "cell_type": "code",
   "execution_count": 43,
   "id": "a146eb00",
   "metadata": {},
   "outputs": [
    {
     "data": {
      "text/plain": [
       "PythonRDD[2] at RDD at PythonRDD.scala:53"
      ]
     },
     "execution_count": 43,
     "metadata": {},
     "output_type": "execute_result"
    }
   ],
   "source": [
    "rdd3.persist()# i will save it in memory because it repeated alot"
   ]
  },
  {
   "cell_type": "code",
   "execution_count": 44,
   "id": "5c5ee383",
   "metadata": {},
   "outputs": [
    {
     "name": "stderr",
     "output_type": "stream",
     "text": [
      "                                                                                \r"
     ]
    },
    {
     "data": {
      "text/plain": [
       "[2, 8]"
      ]
     },
     "execution_count": 44,
     "metadata": {},
     "output_type": "execute_result"
    }
   ],
   "source": [
    "rdd3.take(2)#here will carry out 3 transformations"
   ]
  },
  {
   "cell_type": "code",
   "execution_count": 45,
   "id": "179d03aa",
   "metadata": {},
   "outputs": [],
   "source": [
    "rdd4 = rdd4.map(lambda x : x /2)"
   ]
  },
  {
   "cell_type": "code",
   "execution_count": 46,
   "id": "ed4b9f06",
   "metadata": {},
   "outputs": [
    {
     "data": {
      "text/plain": [
       "[0.25, 1.0, 2.25, 4.0]"
      ]
     },
     "execution_count": 46,
     "metadata": {},
     "output_type": "execute_result"
    }
   ],
   "source": [
    "rdd4.take(4)"
   ]
  },
  {
   "cell_type": "code",
   "execution_count": 47,
   "id": "2bb114f2",
   "metadata": {},
   "outputs": [],
   "source": [
    "rdd5 = rdd3.filter(lambda x : x % 2 == 0 )"
   ]
  },
  {
   "cell_type": "code",
   "execution_count": 48,
   "id": "d0695798",
   "metadata": {},
   "outputs": [
    {
     "name": "stderr",
     "output_type": "stream",
     "text": [
      "\r",
      "[Stage 8:>                                                          (0 + 2) / 2]\r",
      "\r",
      "                                                                                \r"
     ]
    },
    {
     "data": {
      "text/plain": [
       "[2, 8, 18, 32, 50, 72, 98, 128, 162]"
      ]
     },
     "execution_count": 48,
     "metadata": {},
     "output_type": "execute_result"
    }
   ],
   "source": [
    "rdd5.collect()"
   ]
  },
  {
   "cell_type": "code",
   "execution_count": 49,
   "id": "4a606cb3",
   "metadata": {},
   "outputs": [],
   "source": [
    "rdd6 = rdd3.filter(lambda x : x > 50 )"
   ]
  },
  {
   "cell_type": "code",
   "execution_count": 50,
   "id": "fd482a8a",
   "metadata": {},
   "outputs": [
    {
     "data": {
      "text/plain": [
       "[72, 98, 128, 162]"
      ]
     },
     "execution_count": 50,
     "metadata": {},
     "output_type": "execute_result"
    }
   ],
   "source": [
    "rdd6.collect()"
   ]
  },
  {
   "cell_type": "code",
   "execution_count": 51,
   "id": "5f86b183",
   "metadata": {},
   "outputs": [
    {
     "data": {
      "text/plain": [
       "[2, 8, 18, 32, 50, 72, 98, 128, 162]"
      ]
     },
     "execution_count": 51,
     "metadata": {},
     "output_type": "execute_result"
    }
   ],
   "source": [
    "rdd3.collect()"
   ]
  },
  {
   "cell_type": "code",
   "execution_count": null,
   "id": "6dc5dd53",
   "metadata": {},
   "outputs": [],
   "source": [
    "# we can crate rdd from file"
   ]
  },
  {
   "cell_type": "code",
   "execution_count": 53,
   "id": "5f776cbb",
   "metadata": {},
   "outputs": [
    {
     "name": "stdout",
     "output_type": "stream",
     "text": [
      "Writing example.txt\n"
     ]
    }
   ],
   "source": [
    "%%writefile example.txt\n",
    "first line\n",
    "second line\n",
    "rhird line\n",
    "fourth line"
   ]
  },
  {
   "cell_type": "code",
   "execution_count": 55,
   "id": "46c05004",
   "metadata": {},
   "outputs": [],
   "source": [
    "rdd_txt = sc.textFile('example.txt')"
   ]
  },
  {
   "cell_type": "code",
   "execution_count": 56,
   "id": "45ceac9f",
   "metadata": {},
   "outputs": [
    {
     "data": {
      "text/plain": [
       "example.txt MapPartitionsRDD[15] at textFile at NativeMethodAccessorImpl.java:0"
      ]
     },
     "execution_count": 56,
     "metadata": {},
     "output_type": "execute_result"
    }
   ],
   "source": [
    "rdd_txt"
   ]
  },
  {
   "cell_type": "code",
   "execution_count": 57,
   "id": "f6a1e6ad",
   "metadata": {},
   "outputs": [
    {
     "data": {
      "text/plain": [
       "['first line', 'second line', 'rhird line', 'fourth line']"
      ]
     },
     "execution_count": 57,
     "metadata": {},
     "output_type": "execute_result"
    }
   ],
   "source": [
    "rdd_txt.collect()"
   ]
  },
  {
   "cell_type": "code",
   "execution_count": 58,
   "id": "6b0ca6b0",
   "metadata": {},
   "outputs": [
    {
     "data": {
      "text/plain": [
       "'first line'"
      ]
     },
     "execution_count": 58,
     "metadata": {},
     "output_type": "execute_result"
    }
   ],
   "source": [
    "rdd_txt.first()"
   ]
  },
  {
   "cell_type": "code",
   "execution_count": 60,
   "id": "cf6ca159",
   "metadata": {},
   "outputs": [
    {
     "data": {
      "text/plain": [
       "PythonRDD[17] at RDD at PythonRDD.scala:53"
      ]
     },
     "execution_count": 60,
     "metadata": {},
     "output_type": "execute_result"
    }
   ],
   "source": [
    "rdd_txt.map(lambda x : x.splilt())"
   ]
  },
  {
   "cell_type": "code",
   "execution_count": 62,
   "id": "1e1e0d16",
   "metadata": {},
   "outputs": [
    {
     "data": {
      "text/plain": [
       "4"
      ]
     },
     "execution_count": 62,
     "metadata": {},
     "output_type": "execute_result"
    }
   ],
   "source": [
    "rdd_txt.count()#no thing occur "
   ]
  },
  {
   "cell_type": "code",
   "execution_count": 63,
   "id": "58c4c936",
   "metadata": {},
   "outputs": [],
   "source": [
    "rdd_2 = rdd_txt.map(lambda x : x.split())"
   ]
  },
  {
   "cell_type": "code",
   "execution_count": 64,
   "id": "691642ea",
   "metadata": {},
   "outputs": [
    {
     "data": {
      "text/plain": [
       "[['first', 'line'], ['second', 'line'], ['rhird', 'line'], ['fourth', 'line']]"
      ]
     },
     "execution_count": 64,
     "metadata": {},
     "output_type": "execute_result"
    }
   ],
   "source": [
    "rdd_2.collect()"
   ]
  },
  {
   "cell_type": "code",
   "execution_count": 65,
   "id": "d2c5bd83",
   "metadata": {},
   "outputs": [],
   "source": [
    "lst = rdd_2.collect()"
   ]
  },
  {
   "cell_type": "code",
   "execution_count": 66,
   "id": "e057212c",
   "metadata": {},
   "outputs": [
    {
     "data": {
      "text/plain": [
       "['first', 'line']"
      ]
     },
     "execution_count": 66,
     "metadata": {},
     "output_type": "execute_result"
    }
   ],
   "source": [
    "lst[0]"
   ]
  },
  {
   "cell_type": "code",
   "execution_count": 68,
   "id": "4532b988",
   "metadata": {},
   "outputs": [
    {
     "data": {
      "text/plain": [
       "'first'"
      ]
     },
     "execution_count": 68,
     "metadata": {},
     "output_type": "execute_result"
    }
   ],
   "source": [
    "lst[0][0]"
   ]
  },
  {
   "cell_type": "markdown",
   "id": "46face53",
   "metadata": {},
   "source": [
    "### most popular transformations"
   ]
  },
  {
   "cell_type": "code",
   "execution_count": 76,
   "id": "fdc9326f",
   "metadata": {},
   "outputs": [],
   "source": [
    "rdd_3 = rdd_txt.flatMap(lambda x : x.split())"
   ]
  },
  {
   "cell_type": "code",
   "execution_count": 78,
   "id": "391539d2",
   "metadata": {},
   "outputs": [
    {
     "data": {
      "text/plain": [
       "['first', 'line', 'second', 'line', 'rhird', 'line', 'fourth', 'line']"
      ]
     },
     "execution_count": 78,
     "metadata": {},
     "output_type": "execute_result"
    }
   ],
   "source": [
    "rdd_3.collect()#not a list of lists it return all in 1 list"
   ]
  },
  {
   "cell_type": "code",
   "execution_count": 79,
   "id": "58039377",
   "metadata": {},
   "outputs": [],
   "source": [
    "#group by operation \n",
    "rdd = sc.parallelize(['jo' , 'fe' , 'an' , 'ja' , 'fa'])\n"
   ]
  },
  {
   "cell_type": "code",
   "execution_count": 80,
   "id": "48ef319b",
   "metadata": {},
   "outputs": [],
   "source": [
    "rdd2  = rdd.groupBy(lambda x : x[0])"
   ]
  },
  {
   "cell_type": "code",
   "execution_count": 84,
   "id": "7853c191",
   "metadata": {},
   "outputs": [],
   "source": [
    "lst = rdd2.collect()"
   ]
  },
  {
   "cell_type": "code",
   "execution_count": 87,
   "id": "851cd770",
   "metadata": {},
   "outputs": [
    {
     "data": {
      "text/plain": [
       "[('j', ['jo', 'ja']), ('f', ['fe', 'fa']), ('a', ['an'])]"
      ]
     },
     "execution_count": 87,
     "metadata": {},
     "output_type": "execute_result"
    }
   ],
   "source": [
    "[(k,list(v)) for (k,v) in lst]\n",
    "#first what we want to return "
   ]
  },
  {
   "cell_type": "code",
   "execution_count": 89,
   "id": "e81cb649",
   "metadata": {},
   "outputs": [],
   "source": [
    "rdd = sc.parallelize([ ('b',5) , ('b',4) , ('a',3) , ('a',2) , ('a',1) ])"
   ]
  },
  {
   "cell_type": "code",
   "execution_count": 90,
   "id": "d1edb649",
   "metadata": {},
   "outputs": [],
   "source": [
    "rdd3 = rdd.groupByKey()"
   ]
  },
  {
   "cell_type": "code",
   "execution_count": 92,
   "id": "efa163f1",
   "metadata": {},
   "outputs": [],
   "source": [
    "lst = rdd3.collect()"
   ]
  },
  {
   "cell_type": "code",
   "execution_count": 93,
   "id": "72d49435",
   "metadata": {},
   "outputs": [
    {
     "data": {
      "text/plain": [
       "[('b', [5, 4]), ('a', [3, 2, 1])]"
      ]
     },
     "execution_count": 93,
     "metadata": {},
     "output_type": "execute_result"
    }
   ],
   "source": [
    "[(k,list(v)) for (k,v) in lst]"
   ]
  },
  {
   "cell_type": "code",
   "execution_count": 96,
   "id": "f0417d4f",
   "metadata": {},
   "outputs": [],
   "source": [
    "lst = list(range(10))"
   ]
  },
  {
   "cell_type": "code",
   "execution_count": 97,
   "id": "c5dc4c14",
   "metadata": {},
   "outputs": [
    {
     "data": {
      "text/plain": [
       "[0, 1, 2, 3, 4, 5, 6, 7, 8, 9]"
      ]
     },
     "execution_count": 97,
     "metadata": {},
     "output_type": "execute_result"
    }
   ],
   "source": [
    "lst"
   ]
  },
  {
   "cell_type": "code",
   "execution_count": 98,
   "id": "3eab4259",
   "metadata": {},
   "outputs": [],
   "source": [
    "rdd = sc.parallelize(lst)"
   ]
  },
  {
   "cell_type": "code",
   "execution_count": 100,
   "id": "5534cd38",
   "metadata": {},
   "outputs": [],
   "source": [
    "rdd2 = rdd.map(lambda x:x**2)\n"
   ]
  },
  {
   "cell_type": "code",
   "execution_count": 102,
   "id": "9936a165",
   "metadata": {},
   "outputs": [
    {
     "data": {
      "text/plain": [
       "81"
      ]
     },
     "execution_count": 102,
     "metadata": {},
     "output_type": "execute_result"
    }
   ],
   "source": [
    "rdd2.max()"
   ]
  },
  {
   "cell_type": "code",
   "execution_count": 103,
   "id": "abbce96c",
   "metadata": {},
   "outputs": [
    {
     "data": {
      "text/plain": [
       "0"
      ]
     },
     "execution_count": 103,
     "metadata": {},
     "output_type": "execute_result"
    }
   ],
   "source": [
    "rdd2.min()"
   ]
  },
  {
   "cell_type": "code",
   "execution_count": 106,
   "id": "e503e879",
   "metadata": {},
   "outputs": [
    {
     "data": {
      "text/plain": [
       "45"
      ]
     },
     "execution_count": 106,
     "metadata": {},
     "output_type": "execute_result"
    }
   ],
   "source": [
    "rdd.reduce(lambda a,b : a+b )\n",
    "#it will take first 2 no.s and then sum them and put it in a and then sum to next no. and so on "
   ]
  },
  {
   "cell_type": "code",
   "execution_count": 107,
   "id": "e47b8385",
   "metadata": {},
   "outputs": [
    {
     "data": {
      "text/plain": [
       "0"
      ]
     },
     "execution_count": 107,
     "metadata": {},
     "output_type": "execute_result"
    }
   ],
   "source": [
    "rdd.reduce(lambda a,b : a*b )"
   ]
  },
  {
   "cell_type": "code",
   "execution_count": 111,
   "id": "3baf2d2a",
   "metadata": {},
   "outputs": [
    {
     "data": {
      "text/plain": [
       "2"
      ]
     },
     "execution_count": 111,
     "metadata": {},
     "output_type": "execute_result"
    }
   ],
   "source": [
    "rdd.getNumPartitions()#any rdd at least have 2 partitions\n",
    "#if data is bigger it will be more than 2"
   ]
  },
  {
   "cell_type": "code",
   "execution_count": 112,
   "id": "4710cf9f",
   "metadata": {},
   "outputs": [],
   "source": [
    "#action did in master node "
   ]
  },
  {
   "cell_type": "markdown",
   "id": "ecc1c753",
   "metadata": {},
   "source": [
    "### new notebook "
   ]
  },
  {
   "cell_type": "code",
   "execution_count": 137,
   "id": "24b7bcf5",
   "metadata": {},
   "outputs": [],
   "source": [
    "import findspark\n",
    "findspark.init()\n",
    "from pyspark.sql import SparkSession"
   ]
  },
  {
   "cell_type": "code",
   "execution_count": 141,
   "id": "b3b3867a",
   "metadata": {},
   "outputs": [],
   "source": [
    "spark = SparkSession.builder.master('local[3]').appName('DataFrame').getOrCreate()\n",
    "#i give it application  name\n",
    "#i give it master node location and how many cores -->* means all "
   ]
  },
  {
   "cell_type": "code",
   "execution_count": 142,
   "id": "aa2619ee",
   "metadata": {},
   "outputs": [
    {
     "data": {
      "text/html": [
       "\n",
       "            <div>\n",
       "                <p><b>SparkSession - in-memory</b></p>\n",
       "                \n",
       "        <div>\n",
       "            <p><b>SparkContext</b></p>\n",
       "\n",
       "            <p><a href=\"http://abdelrhman.lab.local:4040\">Spark UI</a></p>\n",
       "\n",
       "            <dl>\n",
       "              <dt>Version</dt>\n",
       "                <dd><code>v3.0.1</code></dd>\n",
       "              <dt>Master</dt>\n",
       "                <dd><code>local[*]</code></dd>\n",
       "              <dt>AppName</dt>\n",
       "                <dd><code>pyspark-shell</code></dd>\n",
       "            </dl>\n",
       "        </div>\n",
       "        \n",
       "            </div>\n",
       "        "
      ],
      "text/plain": [
       "<pyspark.sql.session.SparkSession at 0x7f2a91441d90>"
      ]
     },
     "execution_count": 142,
     "metadata": {},
     "output_type": "execute_result"
    }
   ],
   "source": [
    "spark"
   ]
  },
  {
   "cell_type": "code",
   "execution_count": 143,
   "id": "7854ef72",
   "metadata": {},
   "outputs": [],
   "source": [
    "sc = spark.sparkContext"
   ]
  },
  {
   "cell_type": "code",
   "execution_count": null,
   "id": "43b3fe00",
   "metadata": {},
   "outputs": [],
   "source": []
  },
  {
   "cell_type": "code",
   "execution_count": null,
   "id": "9cb2a827",
   "metadata": {},
   "outputs": [],
   "source": []
  },
  {
   "cell_type": "code",
   "execution_count": null,
   "id": "e8b5f05b",
   "metadata": {},
   "outputs": [],
   "source": []
  },
  {
   "cell_type": "code",
   "execution_count": null,
   "id": "a314dd87",
   "metadata": {},
   "outputs": [],
   "source": []
  }
 ],
 "metadata": {
  "kernelspec": {
   "display_name": "Python 3 (ipykernel)",
   "language": "python",
   "name": "python3"
  },
  "language_info": {
   "codemirror_mode": {
    "name": "ipython",
    "version": 3
   },
   "file_extension": ".py",
   "mimetype": "text/x-python",
   "name": "python",
   "nbconvert_exporter": "python",
   "pygments_lexer": "ipython3",
   "version": "3.8.10"
  }
 },
 "nbformat": 4,
 "nbformat_minor": 5
}
