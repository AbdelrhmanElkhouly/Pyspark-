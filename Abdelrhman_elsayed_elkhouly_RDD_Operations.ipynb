{
 "cells": [
  {
   "cell_type": "markdown",
   "id": "2568221b",
   "metadata": {},
   "source": [
    "### Import the required libraries then Create SparkContext"
   ]
  },
  {
   "cell_type": "code",
   "execution_count": 138,
   "id": "a188ed0b",
   "metadata": {},
   "outputs": [
    {
     "name": "stdout",
     "output_type": "stream",
     "text": [
      "Requirement already satisfied: findspark in /home/abdelrhman/jupyter_dir/jupyter_env/lib/python3.8/site-packages (1.4.2)\n",
      "\u001b[33mWARNING: You are using pip version 21.2.4; however, version 21.3 is available.\n",
      "You should consider upgrading via the '/home/abdelrhman/jupyter_dir/jupyter_env/bin/python -m pip install --upgrade pip' command.\u001b[0m\n"
     ]
    }
   ],
   "source": [
    "!pip install findspark "
   ]
  },
  {
   "cell_type": "code",
   "execution_count": 139,
   "id": "65e6978c",
   "metadata": {},
   "outputs": [],
   "source": [
    "import findspark\n",
    "findspark.init()\n",
    "import pyspark\n",
    "# from pyspark import SparkContext\n",
    "# sc = SparkContext()"
   ]
  },
  {
   "cell_type": "code",
   "execution_count": 140,
   "id": "12fb235a",
   "metadata": {},
   "outputs": [],
   "source": [
    "# You can create SparkContext from a Spark Session\n",
    "from pyspark.sql import SparkSession\n",
    "spark = SparkSession.builder.getOrCreate()\n",
    "sc = spark.sparkContext"
   ]
  },
  {
   "cell_type": "markdown",
   "id": "e9a7d9c6",
   "metadata": {},
   "source": [
    "### Create and display an RDD from the following list"
   ]
  },
  {
   "cell_type": "code",
   "execution_count": 9,
   "id": "409084ef",
   "metadata": {},
   "outputs": [],
   "source": [
    "list = [('JK', 22), ('V', 24), ('Jimin',24), ('RM', 25), ('J-Hope', 25), ('Suga', 26), ('Jin', 27)]"
   ]
  },
  {
   "cell_type": "code",
   "execution_count": 10,
   "id": "d5ba0725",
   "metadata": {
    "scrolled": true
   },
   "outputs": [
    {
     "name": "stderr",
     "output_type": "stream",
     "text": [
      "                                                                                \r"
     ]
    },
    {
     "data": {
      "text/plain": [
       "[('JK', 22),\n",
       " ('V', 24),\n",
       " ('Jimin', 24),\n",
       " ('RM', 25),\n",
       " ('J-Hope', 25),\n",
       " ('Suga', 26),\n",
       " ('Jin', 27)]"
      ]
     },
     "execution_count": 10,
     "metadata": {},
     "output_type": "execute_result"
    }
   ],
   "source": [
    "distDataRDD = sc.parallelize(list)\n",
    "distDataRDD.collect()"
   ]
  },
  {
   "cell_type": "markdown",
   "id": "feedfb38",
   "metadata": {},
   "source": [
    "### Read sample1.txt file into RDD and displaying the first 4 elements"
   ]
  },
  {
   "cell_type": "code",
   "execution_count": 72,
   "id": "14f5c55a",
   "metadata": {},
   "outputs": [
    {
     "data": {
      "text/plain": [
       "sample1.txt MapPartitionsRDD[35] at textFile at NativeMethodAccessorImpl.java:0"
      ]
     },
     "execution_count": 72,
     "metadata": {},
     "output_type": "execute_result"
    }
   ],
   "source": [
    "distFile = sc.textFile('sample1.txt')\n",
    "distFile"
   ]
  },
  {
   "cell_type": "code",
   "execution_count": 73,
   "id": "7780518e",
   "metadata": {},
   "outputs": [
    {
     "data": {
      "text/plain": [
       "['Utilitatis causa amicitia est quaesita.',\n",
       " 'Lorem ipsum dolor sit amet, consectetur adipiscing elit. ',\n",
       " 'Collatio igitur ista te nihil iuvat. Honesta oratio, Socratica, Platonis etiam. Primum in nostrane potestate est, quid meminerimus? ',\n",
       " 'Duo Reges: constructio interrete. ']"
      ]
     },
     "execution_count": 73,
     "metadata": {},
     "output_type": "execute_result"
    }
   ],
   "source": [
    "distFile.take(4)"
   ]
  },
  {
   "cell_type": "code",
   "execution_count": 74,
   "id": "2e684713",
   "metadata": {},
   "outputs": [
    {
     "data": {
      "text/plain": [
       "'Utilitatis causa amicitia est quaesita.'"
      ]
     },
     "execution_count": 74,
     "metadata": {},
     "output_type": "execute_result"
    }
   ],
   "source": [
    "distFile.first()"
   ]
  },
  {
   "cell_type": "code",
   "execution_count": 75,
   "id": "c63a835c",
   "metadata": {},
   "outputs": [
    {
     "data": {
      "text/plain": [
       "2"
      ]
     },
     "execution_count": 75,
     "metadata": {},
     "output_type": "execute_result"
    }
   ],
   "source": [
    "distFile.getNumPartitions()"
   ]
  },
  {
   "cell_type": "markdown",
   "id": "e55ae192",
   "metadata": {},
   "source": [
    "### Count the total number of rows in RDD"
   ]
  },
  {
   "cell_type": "code",
   "execution_count": 76,
   "id": "0b3be34e",
   "metadata": {},
   "outputs": [
    {
     "data": {
      "text/plain": [
       "7"
      ]
     },
     "execution_count": 76,
     "metadata": {},
     "output_type": "execute_result"
    }
   ],
   "source": [
    "distFile.count()"
   ]
  },
  {
   "cell_type": "markdown",
   "id": "35652e93",
   "metadata": {},
   "source": [
    "### Create a function to convert the data into lower case and splitting it"
   ]
  },
  {
   "cell_type": "code",
   "execution_count": 78,
   "id": "3e8f7f45",
   "metadata": {
    "scrolled": true
   },
   "outputs": [
    {
     "data": {
      "text/plain": [
       "['utilitatis',\n",
       " 'causa',\n",
       " 'amicitia',\n",
       " 'est',\n",
       " 'quaesita.',\n",
       " 'lorem',\n",
       " 'ipsum',\n",
       " 'dolor',\n",
       " 'sit',\n",
       " 'amet,',\n",
       " 'consectetur',\n",
       " 'adipiscing',\n",
       " 'elit.',\n",
       " 'collatio',\n",
       " 'igitur',\n",
       " 'ista',\n",
       " 'te',\n",
       " 'nihil',\n",
       " 'iuvat.',\n",
       " 'honesta',\n",
       " 'oratio,',\n",
       " 'socratica,',\n",
       " 'platonis',\n",
       " 'etiam.',\n",
       " 'primum',\n",
       " 'in',\n",
       " 'nostrane',\n",
       " 'potestate',\n",
       " 'est,',\n",
       " 'quid',\n",
       " 'meminerimus?',\n",
       " 'duo',\n",
       " 'reges:',\n",
       " 'constructio',\n",
       " 'interrete.',\n",
       " 'quid,',\n",
       " 'si',\n",
       " 'etiam',\n",
       " 'iucunda',\n",
       " 'memoria',\n",
       " 'est',\n",
       " 'praeteritorum',\n",
       " 'malorum?',\n",
       " 'si',\n",
       " 'quidem,',\n",
       " 'inquit,',\n",
       " 'tollerem,',\n",
       " 'sed',\n",
       " 'relinquo.',\n",
       " 'an',\n",
       " 'nisi',\n",
       " 'populari',\n",
       " 'fama?',\n",
       " 'quamquam',\n",
       " 'id',\n",
       " 'quidem',\n",
       " 'licebit',\n",
       " 'iis',\n",
       " 'existimare,',\n",
       " 'qui',\n",
       " 'legerint.',\n",
       " 'summum',\n",
       " 'a',\n",
       " 'vobis',\n",
       " 'bonum',\n",
       " 'voluptas',\n",
       " 'dicitur.',\n",
       " 'at',\n",
       " 'hoc',\n",
       " 'in',\n",
       " 'eo',\n",
       " 'm.',\n",
       " 'refert',\n",
       " 'tamen,',\n",
       " 'quo',\n",
       " 'modo.',\n",
       " 'quid',\n",
       " 'sequatur,',\n",
       " 'quid',\n",
       " 'repugnet,',\n",
       " 'vident.',\n",
       " 'iam',\n",
       " 'id',\n",
       " 'ipsum',\n",
       " 'absurdum,',\n",
       " 'maximum',\n",
       " 'malum',\n",
       " 'neglegi.']"
      ]
     },
     "execution_count": 78,
     "metadata": {},
     "output_type": "execute_result"
    }
   ],
   "source": [
    "rdd2 = distFile.flatMap(lambda x : x.lower().split())\n",
    "rdd2.collect()"
   ]
  },
  {
   "cell_type": "code",
   "execution_count": 43,
   "id": "a17e7ffc",
   "metadata": {},
   "outputs": [],
   "source": [
    "# def lower_case(x):\n",
    "#     return x.lower()\n"
   ]
  },
  {
   "cell_type": "code",
   "execution_count": 44,
   "id": "a96e0ace",
   "metadata": {},
   "outputs": [
    {
     "data": {
      "text/plain": [
       "['utilitatis causa amicitia est quaesita.',\n",
       " 'lorem ipsum dolor sit amet, consectetur adipiscing elit. ',\n",
       " 'collatio igitur ista te nihil iuvat. honesta oratio, socratica, platonis etiam. primum in nostrane potestate est, quid meminerimus? ',\n",
       " 'duo reges: constructio interrete. ',\n",
       " 'quid, si etiam iucunda memoria est praeteritorum malorum? si quidem, inquit, tollerem, sed relinquo. an nisi populari fama?',\n",
       " '',\n",
       " 'quamquam id quidem licebit iis existimare, qui legerint. summum a vobis bonum voluptas dicitur. at hoc in eo m. refert tamen, quo modo. quid sequatur, quid repugnet, vident. iam id ipsum absurdum, maximum malum neglegi.']"
      ]
     },
     "execution_count": 44,
     "metadata": {},
     "output_type": "execute_result"
    }
   ],
   "source": [
    "# distFile.map(lower_case).collect()"
   ]
  },
  {
   "cell_type": "markdown",
   "id": "4cfa29af",
   "metadata": {},
   "source": [
    "### Filter the stopwords from the previous text"
   ]
  },
  {
   "cell_type": "code",
   "execution_count": 54,
   "id": "97c1e731",
   "metadata": {},
   "outputs": [],
   "source": [
    "stopwords = ['a','all','the','as','is','am','an','and',\n",
    "             'be','been','from','had','I','I’d','why','with']\n",
    "# Hint: you may need use flatMap"
   ]
  },
  {
   "cell_type": "code",
   "execution_count": 79,
   "id": "3a04ed02",
   "metadata": {},
   "outputs": [
    {
     "data": {
      "text/plain": [
       "['utilitatis',\n",
       " 'causa',\n",
       " 'amicitia',\n",
       " 'est',\n",
       " 'quaesita.',\n",
       " 'lorem',\n",
       " 'ipsum',\n",
       " 'dolor',\n",
       " 'sit',\n",
       " 'amet,',\n",
       " 'consectetur',\n",
       " 'adipiscing',\n",
       " 'elit.',\n",
       " 'collatio',\n",
       " 'igitur',\n",
       " 'ista',\n",
       " 'te',\n",
       " 'nihil',\n",
       " 'iuvat.',\n",
       " 'honesta',\n",
       " 'oratio,',\n",
       " 'socratica,',\n",
       " 'platonis',\n",
       " 'etiam.',\n",
       " 'primum',\n",
       " 'in',\n",
       " 'nostrane',\n",
       " 'potestate',\n",
       " 'est,',\n",
       " 'quid',\n",
       " 'meminerimus?',\n",
       " 'duo',\n",
       " 'reges:',\n",
       " 'constructio',\n",
       " 'interrete.',\n",
       " 'quid,',\n",
       " 'si',\n",
       " 'etiam',\n",
       " 'iucunda',\n",
       " 'memoria',\n",
       " 'est',\n",
       " 'praeteritorum',\n",
       " 'malorum?',\n",
       " 'si',\n",
       " 'quidem,',\n",
       " 'inquit,',\n",
       " 'tollerem,',\n",
       " 'sed',\n",
       " 'relinquo.',\n",
       " 'nisi',\n",
       " 'populari',\n",
       " 'fama?',\n",
       " 'quamquam',\n",
       " 'id',\n",
       " 'quidem',\n",
       " 'licebit',\n",
       " 'iis',\n",
       " 'existimare,',\n",
       " 'qui',\n",
       " 'legerint.',\n",
       " 'summum',\n",
       " 'vobis',\n",
       " 'bonum',\n",
       " 'voluptas',\n",
       " 'dicitur.',\n",
       " 'at',\n",
       " 'hoc',\n",
       " 'in',\n",
       " 'eo',\n",
       " 'm.',\n",
       " 'refert',\n",
       " 'tamen,',\n",
       " 'quo',\n",
       " 'modo.',\n",
       " 'quid',\n",
       " 'sequatur,',\n",
       " 'quid',\n",
       " 'repugnet,',\n",
       " 'vident.',\n",
       " 'iam',\n",
       " 'id',\n",
       " 'ipsum',\n",
       " 'absurdum,',\n",
       " 'maximum',\n",
       " 'malum',\n",
       " 'neglegi.']"
      ]
     },
     "execution_count": 79,
     "metadata": {},
     "output_type": "execute_result"
    }
   ],
   "source": [
    "\n",
    "rdd3 = rdd2.filter(lambda x : x not in stopwords)\n",
    "rdd3.collect()"
   ]
  },
  {
   "cell_type": "markdown",
   "id": "eb066a90",
   "metadata": {},
   "source": [
    "### Filter the words starting with ‘c’"
   ]
  },
  {
   "cell_type": "code",
   "execution_count": 82,
   "id": "a4e9cd23",
   "metadata": {},
   "outputs": [
    {
     "data": {
      "text/plain": [
       "['causa', 'consectetur', 'collatio', 'constructio']"
      ]
     },
     "execution_count": 82,
     "metadata": {},
     "output_type": "execute_result"
    }
   ],
   "source": [
    "rdd4 = rdd2.filter(lambda x : x[0] == 'c')\n",
    "rdd4.collect()"
   ]
  },
  {
   "cell_type": "markdown",
   "id": "eba39e2e",
   "metadata": {},
   "source": [
    "### Reduce the data by key and sum it (use the data from the following list)"
   ]
  },
  {
   "cell_type": "code",
   "execution_count": 121,
   "id": "f26dea46",
   "metadata": {},
   "outputs": [],
   "source": [
    "lst = [('JK', 22), ('V', 24), ('Jimin',24), ('RM', 25)\n",
    "        , ('J-Hope', 25), ('Suga', 26), ('Jin', 27)\n",
    "       , ('J-Hope', 12), ('Suga', 25), ('Jin', 34 )\n",
    "       , ('JK', 32), ('V', 44), ('Jimin',14), ('RM', 35)]\n",
    "# Hint: use reduceByKey"
   ]
  },
  {
   "cell_type": "code",
   "execution_count": 129,
   "id": "60854ccf",
   "metadata": {},
   "outputs": [
    {
     "data": {
      "text/plain": [
       "[('Suga', <pyspark.resultiterable.ResultIterable at 0x7f3c666fa4f0>),\n",
       " ('Jin', <pyspark.resultiterable.ResultIterable at 0x7f3c66546f10>),\n",
       " ('JK', <pyspark.resultiterable.ResultIterable at 0x7f3c66546280>),\n",
       " ('V', <pyspark.resultiterable.ResultIterable at 0x7f3c66546d60>),\n",
       " ('Jimin', <pyspark.resultiterable.ResultIterable at 0x7f3c66546160>),\n",
       " ('RM', <pyspark.resultiterable.ResultIterable at 0x7f3c66546ca0>),\n",
       " ('J-Hope', <pyspark.resultiterable.ResultIterable at 0x7f3c66546e50>)]"
      ]
     },
     "execution_count": 129,
     "metadata": {},
     "output_type": "execute_result"
    }
   ],
   "source": [
    "rdd = sc.parallelize(lst)\n",
    "rdd2 = rdd.reduceByKey(lambda a,b : a+b)\n",
    "rdd2.collect()"
   ]
  },
  {
   "cell_type": "code",
   "execution_count": 131,
   "id": "c2c8c6f8",
   "metadata": {},
   "outputs": [
    {
     "data": {
      "text/plain": [
       "[('Suga', 51),\n",
       " ('Jin', 61),\n",
       " ('JK', 54),\n",
       " ('V', 68),\n",
       " ('Jimin', 38),\n",
       " ('RM', 60),\n",
       " ('J-Hope', 37)]"
      ]
     },
     "execution_count": 131,
     "metadata": {},
     "output_type": "execute_result"
    }
   ],
   "source": [
    "rdd = sc.parallelize(lst)\n",
    "rdd2 = rdd.reduceByKey(lambda a,b : a+b)\n",
    "rdd2.collect()"
   ]
  },
  {
   "cell_type": "markdown",
   "id": "a4587230",
   "metadata": {},
   "source": [
    "### Creat some key value pairs RDDs"
   ]
  },
  {
   "cell_type": "code",
   "execution_count": 132,
   "id": "cfb446ee",
   "metadata": {},
   "outputs": [],
   "source": [
    "rdd1 = sc.parallelize([('a',2),('b',3)])\n",
    "rdd2 = sc.parallelize([('a',9),('b',7),('c',10)])"
   ]
  },
  {
   "cell_type": "markdown",
   "id": "98ec3168",
   "metadata": {},
   "source": [
    "### Perform Join operation on the RDDs (rdd1,rdd2)"
   ]
  },
  {
   "cell_type": "code",
   "execution_count": 133,
   "id": "c61b5926",
   "metadata": {},
   "outputs": [
    {
     "name": "stderr",
     "output_type": "stream",
     "text": [
      "                                                                                \r"
     ]
    },
    {
     "data": {
      "text/plain": [
       "[('b', (3, 7)), ('a', (2, 9))]"
      ]
     },
     "execution_count": 133,
     "metadata": {},
     "output_type": "execute_result"
    }
   ],
   "source": [
    "rdd1.join(rdd2).collect()"
   ]
  },
  {
   "cell_type": "code",
   "execution_count": null,
   "id": "5fc98e9f",
   "metadata": {},
   "outputs": [],
   "source": []
  }
 ],
 "metadata": {
  "kernelspec": {
   "display_name": "Python 3 (ipykernel)",
   "language": "python",
   "name": "python3"
  },
  "language_info": {
   "codemirror_mode": {
    "name": "ipython",
    "version": 3
   },
   "file_extension": ".py",
   "mimetype": "text/x-python",
   "name": "python",
   "nbconvert_exporter": "python",
   "pygments_lexer": "ipython3",
   "version": "3.8.10"
  }
 },
 "nbformat": 4,
 "nbformat_minor": 5
}
